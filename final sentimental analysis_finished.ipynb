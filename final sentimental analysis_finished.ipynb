{
 "cells": [
  {
   "cell_type": "markdown",
   "id": "512e2b95",
   "metadata": {},
   "source": [
    "\n",
    "# Sentiment Analysis Project\n",
    "\n",
    "This project involves performing sentiment analysis on Amazon product reviews. The goal is to classify reviews as either **positive** or **negative** using a Naive Bayes classifier.\n",
    "\n",
    "## Steps Involved:\n",
    "1. **Data Preprocessing**: Clean and vectorize the text data.\n",
    "2. **Model Training**: Train a Naive Bayes model on the processed data.\n",
    "3. **Evaluation**: Evaluate the model using various performance metrics.\n",
    "4. **Model Testing**: Test the model on some sample reviews.\n",
    "5. **Chatbox AI Integration**: (To be added) A simple interface for real-time sentiment prediction.\n"
   ]
  },
  {
   "cell_type": "code",
   "execution_count": 4,
   "id": "eaae41c5",
   "metadata": {},
   "outputs": [],
   "source": [
    "# Import statements\n",
    "import pandas as pd\n",
    "import numpy as np\n",
    "import matplotlib.pyplot as plt\n",
    "import seaborn as sns\n",
    "import re\n",
    "import nltk\n",
    "from sklearn.model_selection import train_test_split\n",
    "from sklearn.feature_extraction.text import TfidfVectorizer\n",
    "from sklearn.pipeline import Pipeline \n",
    "from sklearn.metrics import accuracy_score, confusion_matrix, classification_report,ConfusionMatrixDisplay\n",
    "from sklearn import naive_bayes\n",
    "from sklearn.linear_model import LogisticRegression\n",
    "from sklearn.svm import LinearSVC\n",
    "from sklearn.neighbors import KNeighborsClassifier\n",
    "from bs4 import BeautifulSoup\n",
    "from nltk.corpus import stopwords \n",
    "from sklearn.ensemble import RandomForestClassifier"
   ]
  },
  {
   "cell_type": "code",
   "execution_count": 5,
   "id": "18cddebf",
   "metadata": {},
   "outputs": [],
   "source": [
    "# reading data from sample dataset\n",
    "# data = pd.read_csv('amazon_pc.csv')\n",
    "data = pd.read_csv('appl_1_amazon_pc.csv')"
   ]
  },
  {
   "cell_type": "code",
   "execution_count": 6,
   "id": "684e6333",
   "metadata": {
    "scrolled": false
   },
   "outputs": [
    {
     "data": {
      "text/html": [
       "<div>\n",
       "<style scoped>\n",
       "    .dataframe tbody tr th:only-of-type {\n",
       "        vertical-align: middle;\n",
       "    }\n",
       "\n",
       "    .dataframe tbody tr th {\n",
       "        vertical-align: top;\n",
       "    }\n",
       "\n",
       "    .dataframe thead th {\n",
       "        text-align: right;\n",
       "    }\n",
       "</style>\n",
       "<table border=\"1\" class=\"dataframe\">\n",
       "  <thead>\n",
       "    <tr style=\"text-align: right;\">\n",
       "      <th></th>\n",
       "      <th>marketplace</th>\n",
       "      <th>customer_id</th>\n",
       "      <th>review_id</th>\n",
       "      <th>product_id</th>\n",
       "      <th>product_parent</th>\n",
       "      <th>product_title</th>\n",
       "      <th>product_category</th>\n",
       "      <th>star_rating</th>\n",
       "      <th>helpful_votes</th>\n",
       "      <th>total_votes</th>\n",
       "      <th>vine</th>\n",
       "      <th>verified_purchase</th>\n",
       "      <th>review_headline</th>\n",
       "      <th>review_body</th>\n",
       "      <th>review_date</th>\n",
       "      <th>sentiment</th>\n",
       "    </tr>\n",
       "  </thead>\n",
       "  <tbody>\n",
       "    <tr>\n",
       "      <th>0</th>\n",
       "      <td>US</td>\n",
       "      <td>11555559</td>\n",
       "      <td>R1QXC7AHHJBQ3O</td>\n",
       "      <td>B00IKPX4GY</td>\n",
       "      <td>2693241</td>\n",
       "      <td>Fire HD 7, 7\" HD Display, Wi-Fi, 8 GB</td>\n",
       "      <td>PC</td>\n",
       "      <td>5</td>\n",
       "      <td>0</td>\n",
       "      <td>0</td>\n",
       "      <td>N</td>\n",
       "      <td>Y</td>\n",
       "      <td>Five Stars</td>\n",
       "      <td>Great love it</td>\n",
       "      <td>2015-08-31</td>\n",
       "      <td>1</td>\n",
       "    </tr>\n",
       "    <tr>\n",
       "      <th>1</th>\n",
       "      <td>US</td>\n",
       "      <td>31469372</td>\n",
       "      <td>R175VSRV6ZETOP</td>\n",
       "      <td>B00IKPYKWG</td>\n",
       "      <td>2693241</td>\n",
       "      <td>Fire HD 7, 7\" HD Display, Wi-Fi, 8 GB</td>\n",
       "      <td>PC</td>\n",
       "      <td>3</td>\n",
       "      <td>0</td>\n",
       "      <td>0</td>\n",
       "      <td>N</td>\n",
       "      <td>N</td>\n",
       "      <td>Lots of ads Slow processing speed Occasionally...</td>\n",
       "      <td>Lots of ads&lt;br /&gt;Slow processing speed&lt;br /&gt;Oc...</td>\n",
       "      <td>2015-08-31</td>\n",
       "      <td>0</td>\n",
       "    </tr>\n",
       "    <tr>\n",
       "      <th>2</th>\n",
       "      <td>US</td>\n",
       "      <td>26843895</td>\n",
       "      <td>R2HRFF78MWGY19</td>\n",
       "      <td>B00IKPW0UA</td>\n",
       "      <td>2693241</td>\n",
       "      <td>Fire HD 7, 7\" HD Display, Wi-Fi, 8 GB</td>\n",
       "      <td>PC</td>\n",
       "      <td>5</td>\n",
       "      <td>0</td>\n",
       "      <td>0</td>\n",
       "      <td>N</td>\n",
       "      <td>Y</td>\n",
       "      <td>Well thought out device</td>\n",
       "      <td>Excellent unit.  The versatility of this table...</td>\n",
       "      <td>2015-08-31</td>\n",
       "      <td>1</td>\n",
       "    </tr>\n",
       "    <tr>\n",
       "      <th>3</th>\n",
       "      <td>US</td>\n",
       "      <td>19844868</td>\n",
       "      <td>R8Q39WPKYVSTX</td>\n",
       "      <td>B00LCHSHMS</td>\n",
       "      <td>2693241</td>\n",
       "      <td>Fire HD 7, 7\" HD Display, Wi-Fi, 8 GB</td>\n",
       "      <td>PC</td>\n",
       "      <td>4</td>\n",
       "      <td>0</td>\n",
       "      <td>0</td>\n",
       "      <td>N</td>\n",
       "      <td>N</td>\n",
       "      <td>Not all apps/games we were looking forward to ...</td>\n",
       "      <td>I bought this on Amazon Prime so I ended up bu...</td>\n",
       "      <td>2015-08-31</td>\n",
       "      <td>1</td>\n",
       "    </tr>\n",
       "    <tr>\n",
       "      <th>4</th>\n",
       "      <td>US</td>\n",
       "      <td>1189852</td>\n",
       "      <td>R3RL4C8YP2ZCJL</td>\n",
       "      <td>B00IKPZ5V6</td>\n",
       "      <td>2693241</td>\n",
       "      <td>Fire HD 7, 7\" HD Display, Wi-Fi, 8 GB</td>\n",
       "      <td>PC</td>\n",
       "      <td>5</td>\n",
       "      <td>0</td>\n",
       "      <td>0</td>\n",
       "      <td>N</td>\n",
       "      <td>Y</td>\n",
       "      <td>Five Stars</td>\n",
       "      <td>All Amazon products continue to meet my expect...</td>\n",
       "      <td>2015-08-31</td>\n",
       "      <td>1</td>\n",
       "    </tr>\n",
       "  </tbody>\n",
       "</table>\n",
       "</div>"
      ],
      "text/plain": [
       "  marketplace  customer_id       review_id  product_id  product_parent  \\\n",
       "0          US     11555559  R1QXC7AHHJBQ3O  B00IKPX4GY         2693241   \n",
       "1          US     31469372  R175VSRV6ZETOP  B00IKPYKWG         2693241   \n",
       "2          US     26843895  R2HRFF78MWGY19  B00IKPW0UA         2693241   \n",
       "3          US     19844868   R8Q39WPKYVSTX  B00LCHSHMS         2693241   \n",
       "4          US      1189852  R3RL4C8YP2ZCJL  B00IKPZ5V6         2693241   \n",
       "\n",
       "                           product_title product_category  star_rating  \\\n",
       "0  Fire HD 7, 7\" HD Display, Wi-Fi, 8 GB               PC            5   \n",
       "1  Fire HD 7, 7\" HD Display, Wi-Fi, 8 GB               PC            3   \n",
       "2  Fire HD 7, 7\" HD Display, Wi-Fi, 8 GB               PC            5   \n",
       "3  Fire HD 7, 7\" HD Display, Wi-Fi, 8 GB               PC            4   \n",
       "4  Fire HD 7, 7\" HD Display, Wi-Fi, 8 GB               PC            5   \n",
       "\n",
       "   helpful_votes  total_votes vine verified_purchase  \\\n",
       "0              0            0    N                 Y   \n",
       "1              0            0    N                 N   \n",
       "2              0            0    N                 Y   \n",
       "3              0            0    N                 N   \n",
       "4              0            0    N                 Y   \n",
       "\n",
       "                                     review_headline  \\\n",
       "0                                         Five Stars   \n",
       "1  Lots of ads Slow processing speed Occasionally...   \n",
       "2                            Well thought out device   \n",
       "3  Not all apps/games we were looking forward to ...   \n",
       "4                                         Five Stars   \n",
       "\n",
       "                                         review_body review_date  sentiment  \n",
       "0                                      Great love it  2015-08-31          1  \n",
       "1  Lots of ads<br />Slow processing speed<br />Oc...  2015-08-31          0  \n",
       "2  Excellent unit.  The versatility of this table...  2015-08-31          1  \n",
       "3  I bought this on Amazon Prime so I ended up bu...  2015-08-31          1  \n",
       "4  All Amazon products continue to meet my expect...  2015-08-31          1  "
      ]
     },
     "execution_count": 6,
     "metadata": {},
     "output_type": "execute_result"
    }
   ],
   "source": [
    "# print 5 records from dataset\n",
    "data.head(5)"
   ]
  },
  {
   "cell_type": "code",
   "execution_count": 7,
   "id": "088bdf86",
   "metadata": {},
   "outputs": [
    {
     "data": {
      "text/plain": [
       "Index(['marketplace', 'customer_id', 'review_id', 'product_id',\n",
       "       'product_parent', 'product_title', 'product_category', 'star_rating',\n",
       "       'helpful_votes', 'total_votes', 'vine', 'verified_purchase',\n",
       "       'review_headline', 'review_body', 'review_date', 'sentiment'],\n",
       "      dtype='object')"
      ]
     },
     "execution_count": 7,
     "metadata": {},
     "output_type": "execute_result"
    }
   ],
   "source": [
    "# print various attributes available in the dataset\n",
    "data.columns"
   ]
  },
  {
   "cell_type": "code",
   "execution_count": 8,
   "id": "b81d6269",
   "metadata": {},
   "outputs": [
    {
     "name": "stdout",
     "output_type": "stream",
     "text": [
      "<class 'pandas.core.frame.DataFrame'>\n",
      "RangeIndex: 30846 entries, 0 to 30845\n",
      "Data columns (total 16 columns):\n",
      " #   Column             Non-Null Count  Dtype \n",
      "---  ------             --------------  ----- \n",
      " 0   marketplace        30846 non-null  object\n",
      " 1   customer_id        30846 non-null  int64 \n",
      " 2   review_id          30846 non-null  object\n",
      " 3   product_id         30846 non-null  object\n",
      " 4   product_parent     30846 non-null  int64 \n",
      " 5   product_title      30846 non-null  object\n",
      " 6   product_category   30846 non-null  object\n",
      " 7   star_rating        30846 non-null  int64 \n",
      " 8   helpful_votes      30846 non-null  int64 \n",
      " 9   total_votes        30846 non-null  int64 \n",
      " 10  vine               30846 non-null  object\n",
      " 11  verified_purchase  30846 non-null  object\n",
      " 12  review_headline    30846 non-null  object\n",
      " 13  review_body        30846 non-null  object\n",
      " 14  review_date        30846 non-null  object\n",
      " 15  sentiment          30846 non-null  int64 \n",
      "dtypes: int64(6), object(10)\n",
      "memory usage: 3.8+ MB\n"
     ]
    }
   ],
   "source": [
    "# print properties of attributes in the dataset\n",
    "data.info()"
   ]
  },
  {
   "cell_type": "code",
   "execution_count": 9,
   "id": "0ef132ce",
   "metadata": {},
   "outputs": [],
   "source": [
    "# adding a sentiment column to classify reviews as Positive or Negative\n",
    "# Positive = 1\n",
    "# Negative = 0\n",
    "\n",
    "data['sentiment'] = np.where(data['star_rating'] == 5.0, 1,\n",
    "                           np.where(data['star_rating'] == 4.0, 1, 0))"
   ]
  },
  {
   "cell_type": "code",
   "execution_count": 11,
   "id": "7ce5c65a",
   "metadata": {},
   "outputs": [
    {
     "data": {
      "text/plain": [
       "array(['Fire HD 7, 7\" HD Display, Wi-Fi, 8 GB'], dtype=object)"
      ]
     },
     "execution_count": 11,
     "metadata": {},
     "output_type": "execute_result"
    }
   ],
   "source": [
    "# get unique values of product title column\n",
    "data[\"product_title\"].unique()"
   ]
  },
  {
   "cell_type": "code",
   "execution_count": 12,
   "id": "514bd3a0",
   "metadata": {
    "scrolled": false
   },
   "outputs": [
    {
     "data": {
      "text/html": [
       "<div>\n",
       "<style scoped>\n",
       "    .dataframe tbody tr th:only-of-type {\n",
       "        vertical-align: middle;\n",
       "    }\n",
       "\n",
       "    .dataframe tbody tr th {\n",
       "        vertical-align: top;\n",
       "    }\n",
       "\n",
       "    .dataframe thead th {\n",
       "        text-align: right;\n",
       "    }\n",
       "</style>\n",
       "<table border=\"1\" class=\"dataframe\">\n",
       "  <thead>\n",
       "    <tr style=\"text-align: right;\">\n",
       "      <th></th>\n",
       "      <th>marketplace</th>\n",
       "      <th>customer_id</th>\n",
       "      <th>review_id</th>\n",
       "      <th>product_id</th>\n",
       "      <th>product_parent</th>\n",
       "      <th>product_title</th>\n",
       "      <th>product_category</th>\n",
       "      <th>star_rating</th>\n",
       "      <th>helpful_votes</th>\n",
       "      <th>total_votes</th>\n",
       "      <th>vine</th>\n",
       "      <th>verified_purchase</th>\n",
       "      <th>review_headline</th>\n",
       "      <th>review_body</th>\n",
       "      <th>review_date</th>\n",
       "      <th>sentiment</th>\n",
       "    </tr>\n",
       "  </thead>\n",
       "  <tbody>\n",
       "    <tr>\n",
       "      <th>0</th>\n",
       "      <td>US</td>\n",
       "      <td>11555559</td>\n",
       "      <td>R1QXC7AHHJBQ3O</td>\n",
       "      <td>B00IKPX4GY</td>\n",
       "      <td>2693241</td>\n",
       "      <td>Fire HD 7, 7\" HD Display, Wi-Fi, 8 GB</td>\n",
       "      <td>PC</td>\n",
       "      <td>5</td>\n",
       "      <td>0</td>\n",
       "      <td>0</td>\n",
       "      <td>N</td>\n",
       "      <td>Y</td>\n",
       "      <td>Five Stars</td>\n",
       "      <td>Great love it</td>\n",
       "      <td>2015-08-31</td>\n",
       "      <td>1</td>\n",
       "    </tr>\n",
       "    <tr>\n",
       "      <th>1</th>\n",
       "      <td>US</td>\n",
       "      <td>31469372</td>\n",
       "      <td>R175VSRV6ZETOP</td>\n",
       "      <td>B00IKPYKWG</td>\n",
       "      <td>2693241</td>\n",
       "      <td>Fire HD 7, 7\" HD Display, Wi-Fi, 8 GB</td>\n",
       "      <td>PC</td>\n",
       "      <td>3</td>\n",
       "      <td>0</td>\n",
       "      <td>0</td>\n",
       "      <td>N</td>\n",
       "      <td>N</td>\n",
       "      <td>Lots of ads Slow processing speed Occasionally...</td>\n",
       "      <td>Lots of ads&lt;br /&gt;Slow processing speed&lt;br /&gt;Oc...</td>\n",
       "      <td>2015-08-31</td>\n",
       "      <td>0</td>\n",
       "    </tr>\n",
       "    <tr>\n",
       "      <th>2</th>\n",
       "      <td>US</td>\n",
       "      <td>26843895</td>\n",
       "      <td>R2HRFF78MWGY19</td>\n",
       "      <td>B00IKPW0UA</td>\n",
       "      <td>2693241</td>\n",
       "      <td>Fire HD 7, 7\" HD Display, Wi-Fi, 8 GB</td>\n",
       "      <td>PC</td>\n",
       "      <td>5</td>\n",
       "      <td>0</td>\n",
       "      <td>0</td>\n",
       "      <td>N</td>\n",
       "      <td>Y</td>\n",
       "      <td>Well thought out device</td>\n",
       "      <td>Excellent unit.  The versatility of this table...</td>\n",
       "      <td>2015-08-31</td>\n",
       "      <td>1</td>\n",
       "    </tr>\n",
       "    <tr>\n",
       "      <th>3</th>\n",
       "      <td>US</td>\n",
       "      <td>19844868</td>\n",
       "      <td>R8Q39WPKYVSTX</td>\n",
       "      <td>B00LCHSHMS</td>\n",
       "      <td>2693241</td>\n",
       "      <td>Fire HD 7, 7\" HD Display, Wi-Fi, 8 GB</td>\n",
       "      <td>PC</td>\n",
       "      <td>4</td>\n",
       "      <td>0</td>\n",
       "      <td>0</td>\n",
       "      <td>N</td>\n",
       "      <td>N</td>\n",
       "      <td>Not all apps/games we were looking forward to ...</td>\n",
       "      <td>I bought this on Amazon Prime so I ended up bu...</td>\n",
       "      <td>2015-08-31</td>\n",
       "      <td>1</td>\n",
       "    </tr>\n",
       "    <tr>\n",
       "      <th>4</th>\n",
       "      <td>US</td>\n",
       "      <td>1189852</td>\n",
       "      <td>R3RL4C8YP2ZCJL</td>\n",
       "      <td>B00IKPZ5V6</td>\n",
       "      <td>2693241</td>\n",
       "      <td>Fire HD 7, 7\" HD Display, Wi-Fi, 8 GB</td>\n",
       "      <td>PC</td>\n",
       "      <td>5</td>\n",
       "      <td>0</td>\n",
       "      <td>0</td>\n",
       "      <td>N</td>\n",
       "      <td>Y</td>\n",
       "      <td>Five Stars</td>\n",
       "      <td>All Amazon products continue to meet my expect...</td>\n",
       "      <td>2015-08-31</td>\n",
       "      <td>1</td>\n",
       "    </tr>\n",
       "    <tr>\n",
       "      <th>...</th>\n",
       "      <td>...</td>\n",
       "      <td>...</td>\n",
       "      <td>...</td>\n",
       "      <td>...</td>\n",
       "      <td>...</td>\n",
       "      <td>...</td>\n",
       "      <td>...</td>\n",
       "      <td>...</td>\n",
       "      <td>...</td>\n",
       "      <td>...</td>\n",
       "      <td>...</td>\n",
       "      <td>...</td>\n",
       "      <td>...</td>\n",
       "      <td>...</td>\n",
       "      <td>...</td>\n",
       "      <td>...</td>\n",
       "    </tr>\n",
       "    <tr>\n",
       "      <th>30841</th>\n",
       "      <td>US</td>\n",
       "      <td>44834233</td>\n",
       "      <td>R366C7ARIWLN7R</td>\n",
       "      <td>B00IKPW0UA</td>\n",
       "      <td>2693241</td>\n",
       "      <td>Fire HD 7, 7\" HD Display, Wi-Fi, 8 GB</td>\n",
       "      <td>PC</td>\n",
       "      <td>5</td>\n",
       "      <td>3720</td>\n",
       "      <td>3875</td>\n",
       "      <td>N</td>\n",
       "      <td>Y</td>\n",
       "      <td>A great upgrade for me from an older Kindle Fire!</td>\n",
       "      <td>[[VIDEOID:moP3B6GS5RL8LY]]I purchased the orig...</td>\n",
       "      <td>2014-10-03</td>\n",
       "      <td>1</td>\n",
       "    </tr>\n",
       "    <tr>\n",
       "      <th>30842</th>\n",
       "      <td>US</td>\n",
       "      <td>13376158</td>\n",
       "      <td>R35PL0AOCUXLU9</td>\n",
       "      <td>B00IKPYKWG</td>\n",
       "      <td>2693241</td>\n",
       "      <td>Fire HD 7, 7\" HD Display, Wi-Fi, 8 GB</td>\n",
       "      <td>PC</td>\n",
       "      <td>5</td>\n",
       "      <td>2716</td>\n",
       "      <td>2849</td>\n",
       "      <td>N</td>\n",
       "      <td>Y</td>\n",
       "      <td>Great Value for $139</td>\n",
       "      <td>I'm writing this review with the benefit of be...</td>\n",
       "      <td>2014-10-03</td>\n",
       "      <td>1</td>\n",
       "    </tr>\n",
       "    <tr>\n",
       "      <th>30843</th>\n",
       "      <td>US</td>\n",
       "      <td>40485963</td>\n",
       "      <td>R18ZJVY86AUFII</td>\n",
       "      <td>B00KC6XV58</td>\n",
       "      <td>2693241</td>\n",
       "      <td>Fire HD 7, 7\" HD Display, Wi-Fi, 8 GB</td>\n",
       "      <td>PC</td>\n",
       "      <td>5</td>\n",
       "      <td>1525</td>\n",
       "      <td>1629</td>\n",
       "      <td>N</td>\n",
       "      <td>Y</td>\n",
       "      <td>Even grandma has it figured out!</td>\n",
       "      <td>I purchased this Kindle for my grandma, becaus...</td>\n",
       "      <td>2014-10-03</td>\n",
       "      <td>1</td>\n",
       "    </tr>\n",
       "    <tr>\n",
       "      <th>30844</th>\n",
       "      <td>US</td>\n",
       "      <td>33485035</td>\n",
       "      <td>R36QVLQXMCZRSJ</td>\n",
       "      <td>B00IKPYKWG</td>\n",
       "      <td>2693241</td>\n",
       "      <td>Fire HD 7, 7\" HD Display, Wi-Fi, 8 GB</td>\n",
       "      <td>PC</td>\n",
       "      <td>4</td>\n",
       "      <td>143</td>\n",
       "      <td>163</td>\n",
       "      <td>N</td>\n",
       "      <td>Y</td>\n",
       "      <td>The Honda Accord of Tablets</td>\n",
       "      <td>I bought my tablet Fire HD 7 at Best Buy on th...</td>\n",
       "      <td>2014-10-03</td>\n",
       "      <td>1</td>\n",
       "    </tr>\n",
       "    <tr>\n",
       "      <th>30845</th>\n",
       "      <td>US</td>\n",
       "      <td>7015231</td>\n",
       "      <td>R1MWVQUDBUADGE</td>\n",
       "      <td>B00IKPYKWG</td>\n",
       "      <td>2693241</td>\n",
       "      <td>Fire HD 7, 7\" HD Display, Wi-Fi, 8 GB</td>\n",
       "      <td>PC</td>\n",
       "      <td>5</td>\n",
       "      <td>2</td>\n",
       "      <td>10</td>\n",
       "      <td>N</td>\n",
       "      <td>N</td>\n",
       "      <td>won't regret it</td>\n",
       "      <td>Am impressive piece of hardware for the $. No ...</td>\n",
       "      <td>2014-10-03</td>\n",
       "      <td>1</td>\n",
       "    </tr>\n",
       "  </tbody>\n",
       "</table>\n",
       "<p>30846 rows × 16 columns</p>\n",
       "</div>"
      ],
      "text/plain": [
       "      marketplace  customer_id       review_id  product_id  product_parent  \\\n",
       "0              US     11555559  R1QXC7AHHJBQ3O  B00IKPX4GY         2693241   \n",
       "1              US     31469372  R175VSRV6ZETOP  B00IKPYKWG         2693241   \n",
       "2              US     26843895  R2HRFF78MWGY19  B00IKPW0UA         2693241   \n",
       "3              US     19844868   R8Q39WPKYVSTX  B00LCHSHMS         2693241   \n",
       "4              US      1189852  R3RL4C8YP2ZCJL  B00IKPZ5V6         2693241   \n",
       "...           ...          ...             ...         ...             ...   \n",
       "30841          US     44834233  R366C7ARIWLN7R  B00IKPW0UA         2693241   \n",
       "30842          US     13376158  R35PL0AOCUXLU9  B00IKPYKWG         2693241   \n",
       "30843          US     40485963  R18ZJVY86AUFII  B00KC6XV58         2693241   \n",
       "30844          US     33485035  R36QVLQXMCZRSJ  B00IKPYKWG         2693241   \n",
       "30845          US      7015231  R1MWVQUDBUADGE  B00IKPYKWG         2693241   \n",
       "\n",
       "                               product_title product_category  star_rating  \\\n",
       "0      Fire HD 7, 7\" HD Display, Wi-Fi, 8 GB               PC            5   \n",
       "1      Fire HD 7, 7\" HD Display, Wi-Fi, 8 GB               PC            3   \n",
       "2      Fire HD 7, 7\" HD Display, Wi-Fi, 8 GB               PC            5   \n",
       "3      Fire HD 7, 7\" HD Display, Wi-Fi, 8 GB               PC            4   \n",
       "4      Fire HD 7, 7\" HD Display, Wi-Fi, 8 GB               PC            5   \n",
       "...                                      ...              ...          ...   \n",
       "30841  Fire HD 7, 7\" HD Display, Wi-Fi, 8 GB               PC            5   \n",
       "30842  Fire HD 7, 7\" HD Display, Wi-Fi, 8 GB               PC            5   \n",
       "30843  Fire HD 7, 7\" HD Display, Wi-Fi, 8 GB               PC            5   \n",
       "30844  Fire HD 7, 7\" HD Display, Wi-Fi, 8 GB               PC            4   \n",
       "30845  Fire HD 7, 7\" HD Display, Wi-Fi, 8 GB               PC            5   \n",
       "\n",
       "       helpful_votes  total_votes vine verified_purchase  \\\n",
       "0                  0            0    N                 Y   \n",
       "1                  0            0    N                 N   \n",
       "2                  0            0    N                 Y   \n",
       "3                  0            0    N                 N   \n",
       "4                  0            0    N                 Y   \n",
       "...              ...          ...  ...               ...   \n",
       "30841           3720         3875    N                 Y   \n",
       "30842           2716         2849    N                 Y   \n",
       "30843           1525         1629    N                 Y   \n",
       "30844            143          163    N                 Y   \n",
       "30845              2           10    N                 N   \n",
       "\n",
       "                                         review_headline  \\\n",
       "0                                             Five Stars   \n",
       "1      Lots of ads Slow processing speed Occasionally...   \n",
       "2                                Well thought out device   \n",
       "3      Not all apps/games we were looking forward to ...   \n",
       "4                                             Five Stars   \n",
       "...                                                  ...   \n",
       "30841  A great upgrade for me from an older Kindle Fire!   \n",
       "30842                               Great Value for $139   \n",
       "30843                   Even grandma has it figured out!   \n",
       "30844                        The Honda Accord of Tablets   \n",
       "30845                                    won't regret it   \n",
       "\n",
       "                                             review_body review_date  \\\n",
       "0                                          Great love it  2015-08-31   \n",
       "1      Lots of ads<br />Slow processing speed<br />Oc...  2015-08-31   \n",
       "2      Excellent unit.  The versatility of this table...  2015-08-31   \n",
       "3      I bought this on Amazon Prime so I ended up bu...  2015-08-31   \n",
       "4      All Amazon products continue to meet my expect...  2015-08-31   \n",
       "...                                                  ...         ...   \n",
       "30841  [[VIDEOID:moP3B6GS5RL8LY]]I purchased the orig...  2014-10-03   \n",
       "30842  I'm writing this review with the benefit of be...  2014-10-03   \n",
       "30843  I purchased this Kindle for my grandma, becaus...  2014-10-03   \n",
       "30844  I bought my tablet Fire HD 7 at Best Buy on th...  2014-10-03   \n",
       "30845  Am impressive piece of hardware for the $. No ...  2014-10-03   \n",
       "\n",
       "       sentiment  \n",
       "0              1  \n",
       "1              0  \n",
       "2              1  \n",
       "3              1  \n",
       "4              1  \n",
       "...          ...  \n",
       "30841          1  \n",
       "30842          1  \n",
       "30843          1  \n",
       "30844          1  \n",
       "30845          1  \n",
       "\n",
       "[30846 rows x 16 columns]"
      ]
     },
     "execution_count": 12,
     "metadata": {},
     "output_type": "execute_result"
    }
   ],
   "source": [
    "# choose a particular product for analysis\n",
    "prod_hosa = data.loc[data[\"product_title\"]=='Fire HD 7, 7\" HD Display, Wi-Fi, 8 GB']\n",
    "prod_hosa"
   ]
  },
  {
   "cell_type": "code",
   "execution_count": 13,
   "id": "407a6d49",
   "metadata": {},
   "outputs": [],
   "source": [
    "# #split data-set to train and test\n",
    "\n",
    "X = prod_hosa['review_body']\n",
    "Y = prod_hosa['sentiment']\n",
    "\n",
    "X_train, X_test, Y_train, Y_test = train_test_split(X, Y, test_size = 0.2, random_state=42)"
   ]
  },
  {
   "cell_type": "code",
   "execution_count": 14,
   "id": "cfa941a3",
   "metadata": {},
   "outputs": [],
   "source": [
    "# function to remove html elements from the reviews\n",
    "def removeHTML(raw_text):\n",
    "    clean_HTML = BeautifulSoup(raw_text, 'lxml').get_text() \n",
    "    return clean_HTML"
   ]
  },
  {
   "cell_type": "code",
   "execution_count": 15,
   "id": "f98e7d58",
   "metadata": {},
   "outputs": [],
   "source": [
    "# function to remove special characters and numbers from the reviews4961\n",
    "def removeSpecialChar(raw_text):\n",
    "    clean_SpecialChar = re.sub(\"[^a-zA-Z]\", \" \", raw_text)  \n",
    "    return clean_SpecialChar"
   ]
  },
  {
   "cell_type": "code",
   "execution_count": 16,
   "id": "ce8f7f59",
   "metadata": {},
   "outputs": [],
   "source": [
    "# function to convert all reviews into lower case\n",
    "def toLowerCase(raw_text):\n",
    "    clean_LowerCase = raw_text.lower().split()\n",
    "    return( \" \".join(clean_LowerCase))  "
   ]
  },
  {
   "cell_type": "code",
   "execution_count": 17,
   "id": "ecb762a5",
   "metadata": {},
   "outputs": [],
   "source": [
    "# function to remove stop words from the reviews\n",
    "def removeStopWords(raw_text):\n",
    "    stops = set(stopwords.words(\"english\"))\n",
    "    words = [w for w in raw_text if not w in stops]\n",
    "    return( \" \".join(words))"
   ]
  },
  {
   "cell_type": "code",
   "execution_count": 18,
   "id": "1bb0203e",
   "metadata": {},
   "outputs": [
    {
     "name": "stderr",
     "output_type": "stream",
     "text": [
      "[nltk_data] Downloading package stopwords to\n",
      "[nltk_data]     C:\\Users\\santh\\AppData\\Roaming\\nltk_data...\n",
      "[nltk_data]   Package stopwords is already up-to-date!\n",
      "C:\\Users\\santh\\AppData\\Local\\Temp\\ipykernel_13696\\1362146365.py:12: MarkupResemblesLocatorWarning: The input looks more like a filename than markup. You may want to open this file and pass the filehandle into Beautiful Soup.\n",
      "  clean_HTML = BeautifulSoup(raw_text, 'lxml').get_text()\n"
     ]
    }
   ],
   "source": [
    "import nltk\n",
    "from nltk.corpus import stopwords\n",
    "from bs4 import BeautifulSoup\n",
    "import re\n",
    "\n",
    "# Download stopwords if not already present\n",
    "nltk.download('stopwords')\n",
    "\n",
    "# Function to remove HTML tags\n",
    "def removeHTML(raw_text):\n",
    "    if isinstance(raw_text, str):  # Check if the input is a string\n",
    "        clean_HTML = BeautifulSoup(raw_text, 'lxml').get_text()\n",
    "        return clean_HTML\n",
    "    return raw_text  # Return the raw value if it's not a string\n",
    "\n",
    "# Function to remove special characters\n",
    "def removeSpecialChar(text):\n",
    "    if isinstance(text, str):  # Ensure the input is a string\n",
    "        return re.sub(r'\\W+', ' ', text)\n",
    "    return text\n",
    "\n",
    "# Function to convert text to lowercase\n",
    "def toLowerCase(text):\n",
    "    if isinstance(text, str):  # Ensure the input is a string\n",
    "        return text.lower()\n",
    "    return text\n",
    "\n",
    "# Function to remove stopwords\n",
    "def removeStopWords(text):\n",
    "    if isinstance(text, str):  # Ensure the input is a string\n",
    "        stop_words = set(stopwords.words('english'))\n",
    "        words = text.split()\n",
    "        filtered_words = [word for word in words if word.lower() not in stop_words]\n",
    "        return ' '.join(filtered_words)\n",
    "    return text\n",
    "\n",
    "# X_training clean set\n",
    "X_train_cleaned = []\n",
    "\n",
    "for val in X_train:\n",
    "    val = removeHTML(val)\n",
    "    val = removeSpecialChar(val)\n",
    "    val = toLowerCase(val)\n",
    "    val = removeStopWords(val) \n",
    "    X_train_cleaned.append(val)\n"
   ]
  },
  {
   "cell_type": "code",
   "execution_count": 19,
   "id": "506086ea",
   "metadata": {},
   "outputs": [
    {
     "name": "stderr",
     "output_type": "stream",
     "text": [
      "C:\\Users\\santh\\AppData\\Local\\Temp\\ipykernel_13696\\1362146365.py:12: MarkupResemblesLocatorWarning: The input looks more like a filename than markup. You may want to open this file and pass the filehandle into Beautiful Soup.\n",
      "  clean_HTML = BeautifulSoup(raw_text, 'lxml').get_text()\n"
     ]
    }
   ],
   "source": [
    "# X_testing clean set\n",
    "X_test_cleaned = []\n",
    "\n",
    "for val in X_test:\n",
    "    val = removeHTML(val)\n",
    "    val = removeSpecialChar(val)\n",
    "    val = toLowerCase(val)\n",
    "    removeStopWords(val)\n",
    "    X_test_cleaned.append(val) "
   ]
  },
  {
   "cell_type": "code",
   "execution_count": 20,
   "id": "38a51b6d",
   "metadata": {},
   "outputs": [],
   "source": [
    "import numpy as np\n",
    "\n",
    "# Replace NaN values with an empty string\n",
    "X_train_cleaned = ['' if isinstance(val, float) and np.isnan(val) else val for val in X_train_cleaned]\n",
    "\n",
    "# Alternatively, you can filter out NaN values altogether\n",
    "# X_train_cleaned = [val for val in X_train_cleaned if isinstance(val, str)]\n",
    "\n",
    "# Convert a collection of raw documents to a matrix of TF-IDF features\n",
    "tvec = TfidfVectorizer(use_idf=True, strip_accents='ascii')\n",
    "\n",
    "X_train_tvec = tvec.fit_transform(X_train_cleaned)\n"
   ]
  },
  {
   "cell_type": "code",
   "execution_count": 21,
   "id": "f4afb38b",
   "metadata": {},
   "outputs": [
    {
     "data": {
      "text/html": [
       "<style>#sk-container-id-1 {color: black;}#sk-container-id-1 pre{padding: 0;}#sk-container-id-1 div.sk-toggleable {background-color: white;}#sk-container-id-1 label.sk-toggleable__label {cursor: pointer;display: block;width: 100%;margin-bottom: 0;padding: 0.3em;box-sizing: border-box;text-align: center;}#sk-container-id-1 label.sk-toggleable__label-arrow:before {content: \"▸\";float: left;margin-right: 0.25em;color: #696969;}#sk-container-id-1 label.sk-toggleable__label-arrow:hover:before {color: black;}#sk-container-id-1 div.sk-estimator:hover label.sk-toggleable__label-arrow:before {color: black;}#sk-container-id-1 div.sk-toggleable__content {max-height: 0;max-width: 0;overflow: hidden;text-align: left;background-color: #f0f8ff;}#sk-container-id-1 div.sk-toggleable__content pre {margin: 0.2em;color: black;border-radius: 0.25em;background-color: #f0f8ff;}#sk-container-id-1 input.sk-toggleable__control:checked~div.sk-toggleable__content {max-height: 200px;max-width: 100%;overflow: auto;}#sk-container-id-1 input.sk-toggleable__control:checked~label.sk-toggleable__label-arrow:before {content: \"▾\";}#sk-container-id-1 div.sk-estimator input.sk-toggleable__control:checked~label.sk-toggleable__label {background-color: #d4ebff;}#sk-container-id-1 div.sk-label input.sk-toggleable__control:checked~label.sk-toggleable__label {background-color: #d4ebff;}#sk-container-id-1 input.sk-hidden--visually {border: 0;clip: rect(1px 1px 1px 1px);clip: rect(1px, 1px, 1px, 1px);height: 1px;margin: -1px;overflow: hidden;padding: 0;position: absolute;width: 1px;}#sk-container-id-1 div.sk-estimator {font-family: monospace;background-color: #f0f8ff;border: 1px dotted black;border-radius: 0.25em;box-sizing: border-box;margin-bottom: 0.5em;}#sk-container-id-1 div.sk-estimator:hover {background-color: #d4ebff;}#sk-container-id-1 div.sk-parallel-item::after {content: \"\";width: 100%;border-bottom: 1px solid gray;flex-grow: 1;}#sk-container-id-1 div.sk-label:hover label.sk-toggleable__label {background-color: #d4ebff;}#sk-container-id-1 div.sk-serial::before {content: \"\";position: absolute;border-left: 1px solid gray;box-sizing: border-box;top: 0;bottom: 0;left: 50%;z-index: 0;}#sk-container-id-1 div.sk-serial {display: flex;flex-direction: column;align-items: center;background-color: white;padding-right: 0.2em;padding-left: 0.2em;position: relative;}#sk-container-id-1 div.sk-item {position: relative;z-index: 1;}#sk-container-id-1 div.sk-parallel {display: flex;align-items: stretch;justify-content: center;background-color: white;position: relative;}#sk-container-id-1 div.sk-item::before, #sk-container-id-1 div.sk-parallel-item::before {content: \"\";position: absolute;border-left: 1px solid gray;box-sizing: border-box;top: 0;bottom: 0;left: 50%;z-index: -1;}#sk-container-id-1 div.sk-parallel-item {display: flex;flex-direction: column;z-index: 1;position: relative;background-color: white;}#sk-container-id-1 div.sk-parallel-item:first-child::after {align-self: flex-end;width: 50%;}#sk-container-id-1 div.sk-parallel-item:last-child::after {align-self: flex-start;width: 50%;}#sk-container-id-1 div.sk-parallel-item:only-child::after {width: 0;}#sk-container-id-1 div.sk-dashed-wrapped {border: 1px dashed gray;margin: 0 0.4em 0.5em 0.4em;box-sizing: border-box;padding-bottom: 0.4em;background-color: white;}#sk-container-id-1 div.sk-label label {font-family: monospace;font-weight: bold;display: inline-block;line-height: 1.2em;}#sk-container-id-1 div.sk-label-container {text-align: center;}#sk-container-id-1 div.sk-container {/* jupyter's `normalize.less` sets `[hidden] { display: none; }` but bootstrap.min.css set `[hidden] { display: none !important; }` so we also need the `!important` here to be able to override the default hidden behavior on the sphinx rendered scikit-learn.org. See: https://github.com/scikit-learn/scikit-learn/issues/21755 */display: inline-block !important;position: relative;}#sk-container-id-1 div.sk-text-repr-fallback {display: none;}</style><div id=\"sk-container-id-1\" class=\"sk-top-container\"><div class=\"sk-text-repr-fallback\"><pre>LinearSVC(dual=False)</pre><b>In a Jupyter environment, please rerun this cell to show the HTML representation or trust the notebook. <br />On GitHub, the HTML representation is unable to render, please try loading this page with nbviewer.org.</b></div><div class=\"sk-container\" hidden><div class=\"sk-item\"><div class=\"sk-estimator sk-toggleable\"><input class=\"sk-toggleable__control sk-hidden--visually\" id=\"sk-estimator-id-1\" type=\"checkbox\" checked><label for=\"sk-estimator-id-1\" class=\"sk-toggleable__label sk-toggleable__label-arrow\">LinearSVC</label><div class=\"sk-toggleable__content\"><pre>LinearSVC(dual=False)</pre></div></div></div></div></div>"
      ],
      "text/plain": [
       "LinearSVC(dual=False)"
      ]
     },
     "execution_count": 21,
     "metadata": {},
     "output_type": "execute_result"
    }
   ],
   "source": [
    "# Support Vector Classifier model\n",
    "svr_lin = LinearSVC(multi_class='ovr',C=1.0,loss='squared_hinge', dual=False)\n",
    "svr_lin.fit(X_train_tvec, Y_train)"
   ]
  },
  {
   "cell_type": "code",
   "execution_count": 22,
   "id": "e7ffd6b0",
   "metadata": {},
   "outputs": [
    {
     "data": {
      "text/html": [
       "<style type=\"text/css\">\n",
       "#T_c6686_row0_col0, #T_c6686_row0_col1, #T_c6686_row0_col2, #T_c6686_row2_col3 {\n",
       "  background-color: #f2f2dd;\n",
       "  color: #000000;\n",
       "}\n",
       "#T_c6686_row0_col3 {\n",
       "  background-color: #f4f4b9;\n",
       "  color: #000000;\n",
       "}\n",
       "#T_c6686_row1_col0, #T_c6686_row1_col1, #T_c6686_row1_col2, #T_c6686_row3_col3, #T_c6686_row4_col3 {\n",
       "  background-color: #ffff00;\n",
       "  color: #000000;\n",
       "}\n",
       "#T_c6686_row1_col3, #T_c6686_row2_col1, #T_c6686_row4_col1 {\n",
       "  background-color: #fdfd24;\n",
       "  color: #000000;\n",
       "}\n",
       "#T_c6686_row2_col0 {\n",
       "  background-color: #fefe17;\n",
       "  color: #000000;\n",
       "}\n",
       "#T_c6686_row2_col2 {\n",
       "  background-color: #fdfd1e;\n",
       "  color: #000000;\n",
       "}\n",
       "#T_c6686_row3_col0 {\n",
       "  background-color: #f9f969;\n",
       "  color: #000000;\n",
       "}\n",
       "#T_c6686_row3_col1 {\n",
       "  background-color: #f8f872;\n",
       "  color: #000000;\n",
       "}\n",
       "#T_c6686_row3_col2 {\n",
       "  background-color: #f8f873;\n",
       "  color: #000000;\n",
       "}\n",
       "#T_c6686_row4_col0 {\n",
       "  background-color: #fdfd23;\n",
       "  color: #000000;\n",
       "}\n",
       "#T_c6686_row4_col2 {\n",
       "  background-color: #fdfd26;\n",
       "  color: #000000;\n",
       "}\n",
       "</style>\n",
       "<table id=\"T_c6686\">\n",
       "  <thead>\n",
       "    <tr>\n",
       "      <th class=\"blank level0\" >&nbsp;</th>\n",
       "      <th id=\"T_c6686_level0_col0\" class=\"col_heading level0 col0\" >precision</th>\n",
       "      <th id=\"T_c6686_level0_col1\" class=\"col_heading level0 col1\" >recall</th>\n",
       "      <th id=\"T_c6686_level0_col2\" class=\"col_heading level0 col2\" >f1-score</th>\n",
       "      <th id=\"T_c6686_level0_col3\" class=\"col_heading level0 col3\" >support</th>\n",
       "    </tr>\n",
       "  </thead>\n",
       "  <tbody>\n",
       "    <tr>\n",
       "      <th id=\"T_c6686_level0_row0\" class=\"row_heading level0 row0\" >0</th>\n",
       "      <td id=\"T_c6686_row0_col0\" class=\"data row0 col0\" >0.730000</td>\n",
       "      <td id=\"T_c6686_row0_col1\" class=\"data row0 col1\" >0.590000</td>\n",
       "      <td id=\"T_c6686_row0_col2\" class=\"data row0 col2\" >0.650000</td>\n",
       "      <td id=\"T_c6686_row0_col3\" class=\"data row0 col3\" >1018.000000</td>\n",
       "    </tr>\n",
       "    <tr>\n",
       "      <th id=\"T_c6686_level0_row1\" class=\"row_heading level0 row1\" >1</th>\n",
       "      <td id=\"T_c6686_row1_col0\" class=\"data row1 col0\" >0.920000</td>\n",
       "      <td id=\"T_c6686_row1_col1\" class=\"data row1 col1\" >0.960000</td>\n",
       "      <td id=\"T_c6686_row1_col2\" class=\"data row1 col2\" >0.940000</td>\n",
       "      <td id=\"T_c6686_row1_col3\" class=\"data row1 col3\" >5152.000000</td>\n",
       "    </tr>\n",
       "    <tr>\n",
       "      <th id=\"T_c6686_level0_row2\" class=\"row_heading level0 row2\" >accuracy</th>\n",
       "      <td id=\"T_c6686_row2_col0\" class=\"data row2 col0\" >0.900000</td>\n",
       "      <td id=\"T_c6686_row2_col1\" class=\"data row2 col1\" >0.900000</td>\n",
       "      <td id=\"T_c6686_row2_col2\" class=\"data row2 col2\" >0.900000</td>\n",
       "      <td id=\"T_c6686_row2_col3\" class=\"data row2 col3\" >0.900000</td>\n",
       "    </tr>\n",
       "    <tr>\n",
       "      <th id=\"T_c6686_level0_row3\" class=\"row_heading level0 row3\" >macro avg</th>\n",
       "      <td id=\"T_c6686_row3_col0\" class=\"data row3 col0\" >0.830000</td>\n",
       "      <td id=\"T_c6686_row3_col1\" class=\"data row3 col1\" >0.770000</td>\n",
       "      <td id=\"T_c6686_row3_col2\" class=\"data row3 col2\" >0.790000</td>\n",
       "      <td id=\"T_c6686_row3_col3\" class=\"data row3 col3\" >6170.000000</td>\n",
       "    </tr>\n",
       "    <tr>\n",
       "      <th id=\"T_c6686_level0_row4\" class=\"row_heading level0 row4\" >weighted avg</th>\n",
       "      <td id=\"T_c6686_row4_col0\" class=\"data row4 col0\" >0.890000</td>\n",
       "      <td id=\"T_c6686_row4_col1\" class=\"data row4 col1\" >0.900000</td>\n",
       "      <td id=\"T_c6686_row4_col2\" class=\"data row4 col2\" >0.890000</td>\n",
       "      <td id=\"T_c6686_row4_col3\" class=\"data row4 col3\" >6170.000000</td>\n",
       "    </tr>\n",
       "  </tbody>\n",
       "</table>\n"
      ],
      "text/plain": [
       "<pandas.io.formats.style.Styler at 0x284e828b950>"
      ]
     },
     "execution_count": 22,
     "metadata": {},
     "output_type": "execute_result"
    }
   ],
   "source": [
    "# Predict using training and testing data and display the accuracy, f-1 score, precision for Positive and Negative Sentiment Classifiers \n",
    "svr_lin_predictions = svr_lin.predict(tvec.transform(X_test_cleaned))\n",
    "report = classification_report(Y_test,svr_lin_predictions, output_dict=True)\n",
    "data_report = pd.DataFrame(report).transpose().round(2)\n",
    "cm = sns.light_palette(\"yellow\", as_cmap=True)\n",
    "data_report.style.background_gradient(cmap=cm)"
   ]
  },
  {
   "cell_type": "code",
   "execution_count": 23,
   "id": "7b009f87",
   "metadata": {},
   "outputs": [
    {
     "data": {
      "image/png": "[encoded data removed]",
      "text/plain": [
       "<Figure size 640x480 with 2 Axes>"
      ]
     },
     "metadata": {},
     "output_type": "display_data"
    }
   ],
   "source": [
    "# confusion matrix\n",
    "svr_lin_predictions=svr_lin.predict(tvec.transform(X_test_cleaned))\n",
    "ax= plt.subplot()\n",
    "cm=confusion_matrix(Y_test,svr_lin_predictions)\n",
    "sns.heatmap(cm, annot=True, fmt='g', ax=ax,cmap='Greens');  \n",
    "ax.set_xlabel('Predicted labels');ax.set_ylabel('True labels');\n",
    "ax.set_title('Confusion Matrix');\n",
    "ax.xaxis.set_ticklabels(['negative', 'positive']); ax.yaxis.set_ticklabels(['negative', 'positive']);"
   ]
  },
  {
   "cell_type": "code",
   "execution_count": 24,
   "id": "a31b0c14",
   "metadata": {},
   "outputs": [
    {
     "name": "stdout",
     "output_type": "stream",
     "text": [
      "[0]\n"
     ]
    }
   ],
   "source": [
    "# testing the model with sample 'Negative' review\n",
    "demo_review = np.array(['three days of use and it broke very disappointed in this product it worked perfectly for exactly three days and could not be resuscitated it was very inexpensive so i did not want to pay half again the price to ship it back for an exchange so the company would do nothing when they sent me an inquiry as to product satisfaction'])\n",
    "demo_review_X_test = tvec.transform(demo_review)\n",
    "print(svr_lin.predict(demo_review_X_test))\n",
    "\n",
    "# expected output = 0 (Negative)\n",
    "# actual output = 0 (Negative)"
   ]
  },
  {
   "cell_type": "code",
   "execution_count": 25,
   "id": "2fead1c2",
   "metadata": {},
   "outputs": [
    {
     "name": "stdout",
     "output_type": "stream",
     "text": [
      "[1]\n"
     ]
    }
   ],
   "source": [
    "# testing the model with sample 'Positive' review\n",
    "demo_review_2 = np.array(['Excellent product. Works well and performs as expected.'])\n",
    "demo_review_X_test_2 = tvec.transform(demo_review_2)\n",
    "print(svr_lin.predict(demo_review_X_test_2))\n",
    "\n",
    "# expected output = 1 (Positive)\n",
    "# actual output = 1 (Positive)"
   ]
  },
  {
   "cell_type": "code",
   "execution_count": 26,
   "id": "662dced1",
   "metadata": {},
   "outputs": [
    {
     "data": {
      "text/html": [
       "<style>#sk-container-id-2 {color: black;}#sk-container-id-2 pre{padding: 0;}#sk-container-id-2 div.sk-toggleable {background-color: white;}#sk-container-id-2 label.sk-toggleable__label {cursor: pointer;display: block;width: 100%;margin-bottom: 0;padding: 0.3em;box-sizing: border-box;text-align: center;}#sk-container-id-2 label.sk-toggleable__label-arrow:before {content: \"▸\";float: left;margin-right: 0.25em;color: #696969;}#sk-container-id-2 label.sk-toggleable__label-arrow:hover:before {color: black;}#sk-container-id-2 div.sk-estimator:hover label.sk-toggleable__label-arrow:before {color: black;}#sk-container-id-2 div.sk-toggleable__content {max-height: 0;max-width: 0;overflow: hidden;text-align: left;background-color: #f0f8ff;}#sk-container-id-2 div.sk-toggleable__content pre {margin: 0.2em;color: black;border-radius: 0.25em;background-color: #f0f8ff;}#sk-container-id-2 input.sk-toggleable__control:checked~div.sk-toggleable__content {max-height: 200px;max-width: 100%;overflow: auto;}#sk-container-id-2 input.sk-toggleable__control:checked~label.sk-toggleable__label-arrow:before {content: \"▾\";}#sk-container-id-2 div.sk-estimator input.sk-toggleable__control:checked~label.sk-toggleable__label {background-color: #d4ebff;}#sk-container-id-2 div.sk-label input.sk-toggleable__control:checked~label.sk-toggleable__label {background-color: #d4ebff;}#sk-container-id-2 input.sk-hidden--visually {border: 0;clip: rect(1px 1px 1px 1px);clip: rect(1px, 1px, 1px, 1px);height: 1px;margin: -1px;overflow: hidden;padding: 0;position: absolute;width: 1px;}#sk-container-id-2 div.sk-estimator {font-family: monospace;background-color: #f0f8ff;border: 1px dotted black;border-radius: 0.25em;box-sizing: border-box;margin-bottom: 0.5em;}#sk-container-id-2 div.sk-estimator:hover {background-color: #d4ebff;}#sk-container-id-2 div.sk-parallel-item::after {content: \"\";width: 100%;border-bottom: 1px solid gray;flex-grow: 1;}#sk-container-id-2 div.sk-label:hover label.sk-toggleable__label {background-color: #d4ebff;}#sk-container-id-2 div.sk-serial::before {content: \"\";position: absolute;border-left: 1px solid gray;box-sizing: border-box;top: 0;bottom: 0;left: 50%;z-index: 0;}#sk-container-id-2 div.sk-serial {display: flex;flex-direction: column;align-items: center;background-color: white;padding-right: 0.2em;padding-left: 0.2em;position: relative;}#sk-container-id-2 div.sk-item {position: relative;z-index: 1;}#sk-container-id-2 div.sk-parallel {display: flex;align-items: stretch;justify-content: center;background-color: white;position: relative;}#sk-container-id-2 div.sk-item::before, #sk-container-id-2 div.sk-parallel-item::before {content: \"\";position: absolute;border-left: 1px solid gray;box-sizing: border-box;top: 0;bottom: 0;left: 50%;z-index: -1;}#sk-container-id-2 div.sk-parallel-item {display: flex;flex-direction: column;z-index: 1;position: relative;background-color: white;}#sk-container-id-2 div.sk-parallel-item:first-child::after {align-self: flex-end;width: 50%;}#sk-container-id-2 div.sk-parallel-item:last-child::after {align-self: flex-start;width: 50%;}#sk-container-id-2 div.sk-parallel-item:only-child::after {width: 0;}#sk-container-id-2 div.sk-dashed-wrapped {border: 1px dashed gray;margin: 0 0.4em 0.5em 0.4em;box-sizing: border-box;padding-bottom: 0.4em;background-color: white;}#sk-container-id-2 div.sk-label label {font-family: monospace;font-weight: bold;display: inline-block;line-height: 1.2em;}#sk-container-id-2 div.sk-label-container {text-align: center;}#sk-container-id-2 div.sk-container {/* jupyter's `normalize.less` sets `[hidden] { display: none; }` but bootstrap.min.css set `[hidden] { display: none !important; }` so we also need the `!important` here to be able to override the default hidden behavior on the sphinx rendered scikit-learn.org. See: https://github.com/scikit-learn/scikit-learn/issues/21755 */display: inline-block !important;position: relative;}#sk-container-id-2 div.sk-text-repr-fallback {display: none;}</style><div id=\"sk-container-id-2\" class=\"sk-top-container\"><div class=\"sk-text-repr-fallback\"><pre>KNeighborsClassifier()</pre><b>In a Jupyter environment, please rerun this cell to show the HTML representation or trust the notebook. <br />On GitHub, the HTML representation is unable to render, please try loading this page with nbviewer.org.</b></div><div class=\"sk-container\" hidden><div class=\"sk-item\"><div class=\"sk-estimator sk-toggleable\"><input class=\"sk-toggleable__control sk-hidden--visually\" id=\"sk-estimator-id-2\" type=\"checkbox\" checked><label for=\"sk-estimator-id-2\" class=\"sk-toggleable__label sk-toggleable__label-arrow\">KNeighborsClassifier</label><div class=\"sk-toggleable__content\"><pre>KNeighborsClassifier()</pre></div></div></div></div></div>"
      ],
      "text/plain": [
       "KNeighborsClassifier()"
      ]
     },
     "execution_count": 26,
     "metadata": {},
     "output_type": "execute_result"
    }
   ],
   "source": [
    "# K-Nearest Neighbor model\n",
    "knn = KNeighborsClassifier(n_neighbors=5,metric='minkowski',p=2)\n",
    "knn.fit(X_train_tvec, Y_train)"
   ]
  },
  {
   "cell_type": "code",
   "execution_count": 27,
   "id": "cb35c2ce",
   "metadata": {},
   "outputs": [
    {
     "data": {
      "text/html": [
       "<style type=\"text/css\">\n",
       "#T_ac9b8_row0_col0, #T_ac9b8_row0_col1, #T_ac9b8_row0_col2, #T_ac9b8_row2_col3 {\n",
       "  background-color: #f1f1f1;\n",
       "  color: #000000;\n",
       "}\n",
       "#T_ac9b8_row0_col3 {\n",
       "  background-color: #dedede;\n",
       "  color: #000000;\n",
       "}\n",
       "#T_ac9b8_row1_col0, #T_ac9b8_row1_col1, #T_ac9b8_row1_col2, #T_ac9b8_row2_col0, #T_ac9b8_row3_col3, #T_ac9b8_row4_col3 {\n",
       "  background-color: #808080;\n",
       "  color: #f1f1f1;\n",
       "}\n",
       "#T_ac9b8_row1_col3, #T_ac9b8_row2_col1, #T_ac9b8_row4_col1, #T_ac9b8_row4_col2 {\n",
       "  background-color: #939393;\n",
       "  color: #f1f1f1;\n",
       "}\n",
       "#T_ac9b8_row2_col2 {\n",
       "  background-color: #898989;\n",
       "  color: #f1f1f1;\n",
       "}\n",
       "#T_ac9b8_row3_col0, #T_ac9b8_row3_col1, #T_ac9b8_row3_col2 {\n",
       "  background-color: #b8b8b8;\n",
       "  color: #000000;\n",
       "}\n",
       "#T_ac9b8_row4_col0 {\n",
       "  background-color: #959595;\n",
       "  color: #f1f1f1;\n",
       "}\n",
       "</style>\n",
       "<table id=\"T_ac9b8\">\n",
       "  <thead>\n",
       "    <tr>\n",
       "      <th class=\"blank level0\" >&nbsp;</th>\n",
       "      <th id=\"T_ac9b8_level0_col0\" class=\"col_heading level0 col0\" >precision</th>\n",
       "      <th id=\"T_ac9b8_level0_col1\" class=\"col_heading level0 col1\" >recall</th>\n",
       "      <th id=\"T_ac9b8_level0_col2\" class=\"col_heading level0 col2\" >f1-score</th>\n",
       "      <th id=\"T_ac9b8_level0_col3\" class=\"col_heading level0 col3\" >support</th>\n",
       "    </tr>\n",
       "  </thead>\n",
       "  <tbody>\n",
       "    <tr>\n",
       "      <th id=\"T_ac9b8_level0_row0\" class=\"row_heading level0 row0\" >0</th>\n",
       "      <td id=\"T_ac9b8_row0_col0\" class=\"data row0 col0\" >0.680000</td>\n",
       "      <td id=\"T_ac9b8_row0_col1\" class=\"data row0 col1\" >0.040000</td>\n",
       "      <td id=\"T_ac9b8_row0_col2\" class=\"data row0 col2\" >0.080000</td>\n",
       "      <td id=\"T_ac9b8_row0_col3\" class=\"data row0 col3\" >1018.000000</td>\n",
       "    </tr>\n",
       "    <tr>\n",
       "      <th id=\"T_ac9b8_level0_row1\" class=\"row_heading level0 row1\" >1</th>\n",
       "      <td id=\"T_ac9b8_row1_col0\" class=\"data row1 col0\" >0.840000</td>\n",
       "      <td id=\"T_ac9b8_row1_col1\" class=\"data row1 col1\" >1.000000</td>\n",
       "      <td id=\"T_ac9b8_row1_col2\" class=\"data row1 col2\" >0.910000</td>\n",
       "      <td id=\"T_ac9b8_row1_col3\" class=\"data row1 col3\" >5152.000000</td>\n",
       "    </tr>\n",
       "    <tr>\n",
       "      <th id=\"T_ac9b8_level0_row2\" class=\"row_heading level0 row2\" >accuracy</th>\n",
       "      <td id=\"T_ac9b8_row2_col0\" class=\"data row2 col0\" >0.840000</td>\n",
       "      <td id=\"T_ac9b8_row2_col1\" class=\"data row2 col1\" >0.840000</td>\n",
       "      <td id=\"T_ac9b8_row2_col2\" class=\"data row2 col2\" >0.840000</td>\n",
       "      <td id=\"T_ac9b8_row2_col3\" class=\"data row2 col3\" >0.840000</td>\n",
       "    </tr>\n",
       "    <tr>\n",
       "      <th id=\"T_ac9b8_level0_row3\" class=\"row_heading level0 row3\" >macro avg</th>\n",
       "      <td id=\"T_ac9b8_row3_col0\" class=\"data row3 col0\" >0.760000</td>\n",
       "      <td id=\"T_ac9b8_row3_col1\" class=\"data row3 col1\" >0.520000</td>\n",
       "      <td id=\"T_ac9b8_row3_col2\" class=\"data row3 col2\" >0.500000</td>\n",
       "      <td id=\"T_ac9b8_row3_col3\" class=\"data row3 col3\" >6170.000000</td>\n",
       "    </tr>\n",
       "    <tr>\n",
       "      <th id=\"T_ac9b8_level0_row4\" class=\"row_heading level0 row4\" >weighted avg</th>\n",
       "      <td id=\"T_ac9b8_row4_col0\" class=\"data row4 col0\" >0.810000</td>\n",
       "      <td id=\"T_ac9b8_row4_col1\" class=\"data row4 col1\" >0.840000</td>\n",
       "      <td id=\"T_ac9b8_row4_col2\" class=\"data row4 col2\" >0.770000</td>\n",
       "      <td id=\"T_ac9b8_row4_col3\" class=\"data row4 col3\" >6170.000000</td>\n",
       "    </tr>\n",
       "  </tbody>\n",
       "</table>\n"
      ],
      "text/plain": [
       "<pandas.io.formats.style.Styler at 0x284f13ae550>"
      ]
     },
     "execution_count": 27,
     "metadata": {},
     "output_type": "execute_result"
    }
   ],
   "source": [
    "# Predict using training and testing data and display the accuracy, f-1 score, precision for Positive and Negative Sentiment Classifiers \n",
    "knn_predictions = knn.predict(tvec.transform(X_test_cleaned))\n",
    "report = classification_report(Y_test,knn_predictions, output_dict=True)\n",
    "data_report = pd.DataFrame(report).transpose().round(2)\n",
    "cm = sns.light_palette(\"gray\", as_cmap=True)\n",
    "data_report.style.background_gradient(cmap=cm)"
   ]
  },
  {
   "cell_type": "code",
   "execution_count": 28,
   "id": "27c11a5d",
   "metadata": {},
   "outputs": [
    {
     "data": {
      "text/html": [
       "<style>#sk-container-id-3 {color: black;}#sk-container-id-3 pre{padding: 0;}#sk-container-id-3 div.sk-toggleable {background-color: white;}#sk-container-id-3 label.sk-toggleable__label {cursor: pointer;display: block;width: 100%;margin-bottom: 0;padding: 0.3em;box-sizing: border-box;text-align: center;}#sk-container-id-3 label.sk-toggleable__label-arrow:before {content: \"▸\";float: left;margin-right: 0.25em;color: #696969;}#sk-container-id-3 label.sk-toggleable__label-arrow:hover:before {color: black;}#sk-container-id-3 div.sk-estimator:hover label.sk-toggleable__label-arrow:before {color: black;}#sk-container-id-3 div.sk-toggleable__content {max-height: 0;max-width: 0;overflow: hidden;text-align: left;background-color: #f0f8ff;}#sk-container-id-3 div.sk-toggleable__content pre {margin: 0.2em;color: black;border-radius: 0.25em;background-color: #f0f8ff;}#sk-container-id-3 input.sk-toggleable__control:checked~div.sk-toggleable__content {max-height: 200px;max-width: 100%;overflow: auto;}#sk-container-id-3 input.sk-toggleable__control:checked~label.sk-toggleable__label-arrow:before {content: \"▾\";}#sk-container-id-3 div.sk-estimator input.sk-toggleable__control:checked~label.sk-toggleable__label {background-color: #d4ebff;}#sk-container-id-3 div.sk-label input.sk-toggleable__control:checked~label.sk-toggleable__label {background-color: #d4ebff;}#sk-container-id-3 input.sk-hidden--visually {border: 0;clip: rect(1px 1px 1px 1px);clip: rect(1px, 1px, 1px, 1px);height: 1px;margin: -1px;overflow: hidden;padding: 0;position: absolute;width: 1px;}#sk-container-id-3 div.sk-estimator {font-family: monospace;background-color: #f0f8ff;border: 1px dotted black;border-radius: 0.25em;box-sizing: border-box;margin-bottom: 0.5em;}#sk-container-id-3 div.sk-estimator:hover {background-color: #d4ebff;}#sk-container-id-3 div.sk-parallel-item::after {content: \"\";width: 100%;border-bottom: 1px solid gray;flex-grow: 1;}#sk-container-id-3 div.sk-label:hover label.sk-toggleable__label {background-color: #d4ebff;}#sk-container-id-3 div.sk-serial::before {content: \"\";position: absolute;border-left: 1px solid gray;box-sizing: border-box;top: 0;bottom: 0;left: 50%;z-index: 0;}#sk-container-id-3 div.sk-serial {display: flex;flex-direction: column;align-items: center;background-color: white;padding-right: 0.2em;padding-left: 0.2em;position: relative;}#sk-container-id-3 div.sk-item {position: relative;z-index: 1;}#sk-container-id-3 div.sk-parallel {display: flex;align-items: stretch;justify-content: center;background-color: white;position: relative;}#sk-container-id-3 div.sk-item::before, #sk-container-id-3 div.sk-parallel-item::before {content: \"\";position: absolute;border-left: 1px solid gray;box-sizing: border-box;top: 0;bottom: 0;left: 50%;z-index: -1;}#sk-container-id-3 div.sk-parallel-item {display: flex;flex-direction: column;z-index: 1;position: relative;background-color: white;}#sk-container-id-3 div.sk-parallel-item:first-child::after {align-self: flex-end;width: 50%;}#sk-container-id-3 div.sk-parallel-item:last-child::after {align-self: flex-start;width: 50%;}#sk-container-id-3 div.sk-parallel-item:only-child::after {width: 0;}#sk-container-id-3 div.sk-dashed-wrapped {border: 1px dashed gray;margin: 0 0.4em 0.5em 0.4em;box-sizing: border-box;padding-bottom: 0.4em;background-color: white;}#sk-container-id-3 div.sk-label label {font-family: monospace;font-weight: bold;display: inline-block;line-height: 1.2em;}#sk-container-id-3 div.sk-label-container {text-align: center;}#sk-container-id-3 div.sk-container {/* jupyter's `normalize.less` sets `[hidden] { display: none; }` but bootstrap.min.css set `[hidden] { display: none !important; }` so we also need the `!important` here to be able to override the default hidden behavior on the sphinx rendered scikit-learn.org. See: https://github.com/scikit-learn/scikit-learn/issues/21755 */display: inline-block !important;position: relative;}#sk-container-id-3 div.sk-text-repr-fallback {display: none;}</style><div id=\"sk-container-id-3\" class=\"sk-top-container\"><div class=\"sk-text-repr-fallback\"><pre>LogisticRegression()</pre><b>In a Jupyter environment, please rerun this cell to show the HTML representation or trust the notebook. <br />On GitHub, the HTML representation is unable to render, please try loading this page with nbviewer.org.</b></div><div class=\"sk-container\" hidden><div class=\"sk-item\"><div class=\"sk-estimator sk-toggleable\"><input class=\"sk-toggleable__control sk-hidden--visually\" id=\"sk-estimator-id-3\" type=\"checkbox\" checked><label for=\"sk-estimator-id-3\" class=\"sk-toggleable__label sk-toggleable__label-arrow\">LogisticRegression</label><div class=\"sk-toggleable__content\"><pre>LogisticRegression()</pre></div></div></div></div></div>"
      ],
      "text/plain": [
       "LogisticRegression()"
      ]
     },
     "execution_count": 28,
     "metadata": {},
     "output_type": "execute_result"
    }
   ],
   "source": [
    "# Logistic regression model\n",
    "lr = LogisticRegression()\n",
    "lr.fit(X_train_tvec, Y_train)"
   ]
  },
  {
   "cell_type": "code",
   "execution_count": 29,
   "id": "95d5c253",
   "metadata": {},
   "outputs": [
    {
     "data": {
      "text/html": [
       "<style type=\"text/css\">\n",
       "#T_9c9f6_row0_col0, #T_9c9f6_row0_col1, #T_9c9f6_row0_col2, #T_9c9f6_row2_col3 {\n",
       "  background-color: #f3f0f3;\n",
       "  color: #000000;\n",
       "}\n",
       "#T_9c9f6_row0_col3 {\n",
       "  background-color: #e0c8e0;\n",
       "  color: #000000;\n",
       "}\n",
       "#T_9c9f6_row1_col0, #T_9c9f6_row1_col1, #T_9c9f6_row1_col2, #T_9c9f6_row3_col3, #T_9c9f6_row4_col3 {\n",
       "  background-color: #800080;\n",
       "  color: #f1f1f1;\n",
       "}\n",
       "#T_9c9f6_row1_col3, #T_9c9f6_row2_col1, #T_9c9f6_row4_col1, #T_9c9f6_row4_col2 {\n",
       "  background-color: #932793;\n",
       "  color: #f1f1f1;\n",
       "}\n",
       "#T_9c9f6_row2_col0 {\n",
       "  background-color: #902290;\n",
       "  color: #f1f1f1;\n",
       "}\n",
       "#T_9c9f6_row2_col2 {\n",
       "  background-color: #8f208f;\n",
       "  color: #f1f1f1;\n",
       "}\n",
       "#T_9c9f6_row3_col0 {\n",
       "  background-color: #ba78ba;\n",
       "  color: #f1f1f1;\n",
       "}\n",
       "#T_9c9f6_row3_col1, #T_9c9f6_row3_col2 {\n",
       "  background-color: #b977b9;\n",
       "  color: #f1f1f1;\n",
       "}\n",
       "#T_9c9f6_row4_col0 {\n",
       "  background-color: #983398;\n",
       "  color: #f1f1f1;\n",
       "}\n",
       "</style>\n",
       "<table id=\"T_9c9f6\">\n",
       "  <thead>\n",
       "    <tr>\n",
       "      <th class=\"blank level0\" >&nbsp;</th>\n",
       "      <th id=\"T_9c9f6_level0_col0\" class=\"col_heading level0 col0\" >precision</th>\n",
       "      <th id=\"T_9c9f6_level0_col1\" class=\"col_heading level0 col1\" >recall</th>\n",
       "      <th id=\"T_9c9f6_level0_col2\" class=\"col_heading level0 col2\" >f1-score</th>\n",
       "      <th id=\"T_9c9f6_level0_col3\" class=\"col_heading level0 col3\" >support</th>\n",
       "    </tr>\n",
       "  </thead>\n",
       "  <tbody>\n",
       "    <tr>\n",
       "      <th id=\"T_9c9f6_level0_row0\" class=\"row_heading level0 row0\" >0</th>\n",
       "      <td id=\"T_9c9f6_row0_col0\" class=\"data row0 col0\" >0.780000</td>\n",
       "      <td id=\"T_9c9f6_row0_col1\" class=\"data row0 col1\" >0.550000</td>\n",
       "      <td id=\"T_9c9f6_row0_col2\" class=\"data row0 col2\" >0.640000</td>\n",
       "      <td id=\"T_9c9f6_row0_col3\" class=\"data row0 col3\" >1018.000000</td>\n",
       "    </tr>\n",
       "    <tr>\n",
       "      <th id=\"T_9c9f6_level0_row1\" class=\"row_heading level0 row1\" >1</th>\n",
       "      <td id=\"T_9c9f6_row1_col0\" class=\"data row1 col0\" >0.920000</td>\n",
       "      <td id=\"T_9c9f6_row1_col1\" class=\"data row1 col1\" >0.970000</td>\n",
       "      <td id=\"T_9c9f6_row1_col2\" class=\"data row1 col2\" >0.940000</td>\n",
       "      <td id=\"T_9c9f6_row1_col3\" class=\"data row1 col3\" >5152.000000</td>\n",
       "    </tr>\n",
       "    <tr>\n",
       "      <th id=\"T_9c9f6_level0_row2\" class=\"row_heading level0 row2\" >accuracy</th>\n",
       "      <td id=\"T_9c9f6_row2_col0\" class=\"data row2 col0\" >0.900000</td>\n",
       "      <td id=\"T_9c9f6_row2_col1\" class=\"data row2 col1\" >0.900000</td>\n",
       "      <td id=\"T_9c9f6_row2_col2\" class=\"data row2 col2\" >0.900000</td>\n",
       "      <td id=\"T_9c9f6_row2_col3\" class=\"data row2 col3\" >0.900000</td>\n",
       "    </tr>\n",
       "    <tr>\n",
       "      <th id=\"T_9c9f6_level0_row3\" class=\"row_heading level0 row3\" >macro avg</th>\n",
       "      <td id=\"T_9c9f6_row3_col0\" class=\"data row3 col0\" >0.850000</td>\n",
       "      <td id=\"T_9c9f6_row3_col1\" class=\"data row3 col1\" >0.760000</td>\n",
       "      <td id=\"T_9c9f6_row3_col2\" class=\"data row3 col2\" >0.790000</td>\n",
       "      <td id=\"T_9c9f6_row3_col3\" class=\"data row3 col3\" >6170.000000</td>\n",
       "    </tr>\n",
       "    <tr>\n",
       "      <th id=\"T_9c9f6_level0_row4\" class=\"row_heading level0 row4\" >weighted avg</th>\n",
       "      <td id=\"T_9c9f6_row4_col0\" class=\"data row4 col0\" >0.890000</td>\n",
       "      <td id=\"T_9c9f6_row4_col1\" class=\"data row4 col1\" >0.900000</td>\n",
       "      <td id=\"T_9c9f6_row4_col2\" class=\"data row4 col2\" >0.890000</td>\n",
       "      <td id=\"T_9c9f6_row4_col3\" class=\"data row4 col3\" >6170.000000</td>\n",
       "    </tr>\n",
       "  </tbody>\n",
       "</table>\n"
      ],
      "text/plain": [
       "<pandas.io.formats.style.Styler at 0x284f2e46a90>"
      ]
     },
     "execution_count": 29,
     "metadata": {},
     "output_type": "execute_result"
    }
   ],
   "source": [
    "# Predict using training and testing data and display the accuracy, f-1 score, precision for Positive and Negative Sentiment Classifiers \n",
    "lr_predictions = lr.predict(tvec.transform(X_test_cleaned))\n",
    "report = classification_report(Y_test,lr_predictions, output_dict=True)\n",
    "data_report = pd.DataFrame(report).transpose().round(2)\n",
    "cm = sns.light_palette(\"purple\", as_cmap=True)\n",
    "data_report.style.background_gradient(cmap=cm)"
   ]
  },
  {
   "cell_type": "code",
   "execution_count": 30,
   "id": "e62d32db",
   "metadata": {},
   "outputs": [
    {
     "data": {
      "image/png": "[encoded data removed]",
      "text/plain": [
       "<Figure size 640x480 with 2 Axes>"
      ]
     },
     "metadata": {},
     "output_type": "display_data"
    }
   ],
   "source": [
    "# confusion matrix\n",
    "lr_predictions=lr.predict(tvec.transform(X_test_cleaned))\n",
    "ax= plt.subplot()\n",
    "cm=confusion_matrix(Y_test,lr_predictions)\n",
    "sns.heatmap(cm, annot=True, fmt='g', ax=ax,cmap='Reds');  \n",
    "ax.set_xlabel('Predicted labels');ax.set_ylabel('True labels');\n",
    "ax.set_title('Confusion Matrix');\n",
    "ax.xaxis.set_ticklabels(['negative', 'positive']); ax.yaxis.set_ticklabels(['negative', 'positive']);"
   ]
  },
  {
   "cell_type": "code",
   "execution_count": 31,
   "id": "42b55aec",
   "metadata": {},
   "outputs": [
    {
     "name": "stdout",
     "output_type": "stream",
     "text": [
      "[0]\n"
     ]
    }
   ],
   "source": [
    "# testing the model with sample 'Negative' review\n",
    "demo_review = np.array(['Poor quality. Faulty device.'])\n",
    "demo_review_X_test = tvec.transform(demo_review)\n",
    "print(lr.predict(demo_review_X_test))\n",
    "\n",
    "# expected output = 0 (Negative)\n",
    "# actual output = 0 (Negative)"
   ]
  },
  {
   "cell_type": "code",
   "execution_count": 32,
   "id": "71bcf9fc",
   "metadata": {},
   "outputs": [
    {
     "name": "stdout",
     "output_type": "stream",
     "text": [
      "[1]\n"
     ]
    }
   ],
   "source": [
    "# testing the model with sample 'Positive' review\n",
    "demo_review_2 = np.array(['Best product.'])\n",
    "demo_review_X_test_2 = tvec.transform(demo_review_2)\n",
    "print(lr.predict(demo_review_X_test_2))\n",
    "\n",
    "# expected output = 1 (Positive)\n",
    "# actual output = 1 (Positive)"
   ]
  },
  {
   "cell_type": "code",
   "execution_count": 33,
   "id": "598cfc02",
   "metadata": {},
   "outputs": [
    {
     "data": {
      "text/html": [
       "<style>#sk-container-id-4 {color: black;}#sk-container-id-4 pre{padding: 0;}#sk-container-id-4 div.sk-toggleable {background-color: white;}#sk-container-id-4 label.sk-toggleable__label {cursor: pointer;display: block;width: 100%;margin-bottom: 0;padding: 0.3em;box-sizing: border-box;text-align: center;}#sk-container-id-4 label.sk-toggleable__label-arrow:before {content: \"▸\";float: left;margin-right: 0.25em;color: #696969;}#sk-container-id-4 label.sk-toggleable__label-arrow:hover:before {color: black;}#sk-container-id-4 div.sk-estimator:hover label.sk-toggleable__label-arrow:before {color: black;}#sk-container-id-4 div.sk-toggleable__content {max-height: 0;max-width: 0;overflow: hidden;text-align: left;background-color: #f0f8ff;}#sk-container-id-4 div.sk-toggleable__content pre {margin: 0.2em;color: black;border-radius: 0.25em;background-color: #f0f8ff;}#sk-container-id-4 input.sk-toggleable__control:checked~div.sk-toggleable__content {max-height: 200px;max-width: 100%;overflow: auto;}#sk-container-id-4 input.sk-toggleable__control:checked~label.sk-toggleable__label-arrow:before {content: \"▾\";}#sk-container-id-4 div.sk-estimator input.sk-toggleable__control:checked~label.sk-toggleable__label {background-color: #d4ebff;}#sk-container-id-4 div.sk-label input.sk-toggleable__control:checked~label.sk-toggleable__label {background-color: #d4ebff;}#sk-container-id-4 input.sk-hidden--visually {border: 0;clip: rect(1px 1px 1px 1px);clip: rect(1px, 1px, 1px, 1px);height: 1px;margin: -1px;overflow: hidden;padding: 0;position: absolute;width: 1px;}#sk-container-id-4 div.sk-estimator {font-family: monospace;background-color: #f0f8ff;border: 1px dotted black;border-radius: 0.25em;box-sizing: border-box;margin-bottom: 0.5em;}#sk-container-id-4 div.sk-estimator:hover {background-color: #d4ebff;}#sk-container-id-4 div.sk-parallel-item::after {content: \"\";width: 100%;border-bottom: 1px solid gray;flex-grow: 1;}#sk-container-id-4 div.sk-label:hover label.sk-toggleable__label {background-color: #d4ebff;}#sk-container-id-4 div.sk-serial::before {content: \"\";position: absolute;border-left: 1px solid gray;box-sizing: border-box;top: 0;bottom: 0;left: 50%;z-index: 0;}#sk-container-id-4 div.sk-serial {display: flex;flex-direction: column;align-items: center;background-color: white;padding-right: 0.2em;padding-left: 0.2em;position: relative;}#sk-container-id-4 div.sk-item {position: relative;z-index: 1;}#sk-container-id-4 div.sk-parallel {display: flex;align-items: stretch;justify-content: center;background-color: white;position: relative;}#sk-container-id-4 div.sk-item::before, #sk-container-id-4 div.sk-parallel-item::before {content: \"\";position: absolute;border-left: 1px solid gray;box-sizing: border-box;top: 0;bottom: 0;left: 50%;z-index: -1;}#sk-container-id-4 div.sk-parallel-item {display: flex;flex-direction: column;z-index: 1;position: relative;background-color: white;}#sk-container-id-4 div.sk-parallel-item:first-child::after {align-self: flex-end;width: 50%;}#sk-container-id-4 div.sk-parallel-item:last-child::after {align-self: flex-start;width: 50%;}#sk-container-id-4 div.sk-parallel-item:only-child::after {width: 0;}#sk-container-id-4 div.sk-dashed-wrapped {border: 1px dashed gray;margin: 0 0.4em 0.5em 0.4em;box-sizing: border-box;padding-bottom: 0.4em;background-color: white;}#sk-container-id-4 div.sk-label label {font-family: monospace;font-weight: bold;display: inline-block;line-height: 1.2em;}#sk-container-id-4 div.sk-label-container {text-align: center;}#sk-container-id-4 div.sk-container {/* jupyter's `normalize.less` sets `[hidden] { display: none; }` but bootstrap.min.css set `[hidden] { display: none !important; }` so we also need the `!important` here to be able to override the default hidden behavior on the sphinx rendered scikit-learn.org. See: https://github.com/scikit-learn/scikit-learn/issues/21755 */display: inline-block !important;position: relative;}#sk-container-id-4 div.sk-text-repr-fallback {display: none;}</style><div id=\"sk-container-id-4\" class=\"sk-top-container\"><div class=\"sk-text-repr-fallback\"><pre>MultinomialNB()</pre><b>In a Jupyter environment, please rerun this cell to show the HTML representation or trust the notebook. <br />On GitHub, the HTML representation is unable to render, please try loading this page with nbviewer.org.</b></div><div class=\"sk-container\" hidden><div class=\"sk-item\"><div class=\"sk-estimator sk-toggleable\"><input class=\"sk-toggleable__control sk-hidden--visually\" id=\"sk-estimator-id-4\" type=\"checkbox\" checked><label for=\"sk-estimator-id-4\" class=\"sk-toggleable__label sk-toggleable__label-arrow\">MultinomialNB</label><div class=\"sk-toggleable__content\"><pre>MultinomialNB()</pre></div></div></div></div></div>"
      ],
      "text/plain": [
       "MultinomialNB()"
      ]
     },
     "execution_count": 33,
     "metadata": {},
     "output_type": "execute_result"
    }
   ],
   "source": [
    "# Naive Bayes model\n",
    "nbm = naive_bayes.MultinomialNB()\n",
    "nbm.fit(X_train_tvec, Y_train)"
   ]
  },
  {
   "cell_type": "code",
   "execution_count": 34,
   "id": "ec2533cb",
   "metadata": {},
   "outputs": [
    {
     "data": {
      "text/html": [
       "<style type=\"text/css\">\n",
       "#T_70ebe_row0_col0, #T_70ebe_row1_col1, #T_70ebe_row1_col2, #T_70ebe_row3_col3, #T_70ebe_row4_col3 {\n",
       "  background-color: #0000ff;\n",
       "  color: #f1f1f1;\n",
       "}\n",
       "#T_70ebe_row0_col1, #T_70ebe_row0_col2, #T_70ebe_row1_col0, #T_70ebe_row2_col0, #T_70ebe_row2_col3 {\n",
       "  background-color: #f0f0f3;\n",
       "  color: #000000;\n",
       "}\n",
       "#T_70ebe_row0_col3 {\n",
       "  background-color: #c9c9f5;\n",
       "  color: #000000;\n",
       "}\n",
       "#T_70ebe_row1_col3 {\n",
       "  background-color: #2828fd;\n",
       "  color: #f1f1f1;\n",
       "}\n",
       "#T_70ebe_row2_col1, #T_70ebe_row4_col1 {\n",
       "  background-color: #2929fd;\n",
       "  color: #f1f1f1;\n",
       "}\n",
       "#T_70ebe_row2_col2 {\n",
       "  background-color: #1919fe;\n",
       "  color: #f1f1f1;\n",
       "}\n",
       "#T_70ebe_row3_col0 {\n",
       "  background-color: #7878f9;\n",
       "  color: #f1f1f1;\n",
       "}\n",
       "#T_70ebe_row3_col1 {\n",
       "  background-color: #7979f9;\n",
       "  color: #f1f1f1;\n",
       "}\n",
       "#T_70ebe_row3_col2 {\n",
       "  background-color: #7b7bf9;\n",
       "  color: #f1f1f1;\n",
       "}\n",
       "#T_70ebe_row4_col0 {\n",
       "  background-color: #b4b4f6;\n",
       "  color: #000000;\n",
       "}\n",
       "#T_70ebe_row4_col2 {\n",
       "  background-color: #2525fd;\n",
       "  color: #f1f1f1;\n",
       "}\n",
       "</style>\n",
       "<table id=\"T_70ebe\">\n",
       "  <thead>\n",
       "    <tr>\n",
       "      <th class=\"blank level0\" >&nbsp;</th>\n",
       "      <th id=\"T_70ebe_level0_col0\" class=\"col_heading level0 col0\" >precision</th>\n",
       "      <th id=\"T_70ebe_level0_col1\" class=\"col_heading level0 col1\" >recall</th>\n",
       "      <th id=\"T_70ebe_level0_col2\" class=\"col_heading level0 col2\" >f1-score</th>\n",
       "      <th id=\"T_70ebe_level0_col3\" class=\"col_heading level0 col3\" >support</th>\n",
       "    </tr>\n",
       "  </thead>\n",
       "  <tbody>\n",
       "    <tr>\n",
       "      <th id=\"T_70ebe_level0_row0\" class=\"row_heading level0 row0\" >0</th>\n",
       "      <td id=\"T_70ebe_row0_col0\" class=\"data row0 col0\" >0.900000</td>\n",
       "      <td id=\"T_70ebe_row0_col1\" class=\"data row0 col1\" >0.200000</td>\n",
       "      <td id=\"T_70ebe_row0_col2\" class=\"data row0 col2\" >0.330000</td>\n",
       "      <td id=\"T_70ebe_row0_col3\" class=\"data row0 col3\" >1018.000000</td>\n",
       "    </tr>\n",
       "    <tr>\n",
       "      <th id=\"T_70ebe_level0_row1\" class=\"row_heading level0 row1\" >1</th>\n",
       "      <td id=\"T_70ebe_row1_col0\" class=\"data row1 col0\" >0.860000</td>\n",
       "      <td id=\"T_70ebe_row1_col1\" class=\"data row1 col1\" >1.000000</td>\n",
       "      <td id=\"T_70ebe_row1_col2\" class=\"data row1 col2\" >0.920000</td>\n",
       "      <td id=\"T_70ebe_row1_col3\" class=\"data row1 col3\" >5152.000000</td>\n",
       "    </tr>\n",
       "    <tr>\n",
       "      <th id=\"T_70ebe_level0_row2\" class=\"row_heading level0 row2\" >accuracy</th>\n",
       "      <td id=\"T_70ebe_row2_col0\" class=\"data row2 col0\" >0.860000</td>\n",
       "      <td id=\"T_70ebe_row2_col1\" class=\"data row2 col1\" >0.860000</td>\n",
       "      <td id=\"T_70ebe_row2_col2\" class=\"data row2 col2\" >0.860000</td>\n",
       "      <td id=\"T_70ebe_row2_col3\" class=\"data row2 col3\" >0.860000</td>\n",
       "    </tr>\n",
       "    <tr>\n",
       "      <th id=\"T_70ebe_level0_row3\" class=\"row_heading level0 row3\" >macro avg</th>\n",
       "      <td id=\"T_70ebe_row3_col0\" class=\"data row3 col0\" >0.880000</td>\n",
       "      <td id=\"T_70ebe_row3_col1\" class=\"data row3 col1\" >0.600000</td>\n",
       "      <td id=\"T_70ebe_row3_col2\" class=\"data row3 col2\" >0.620000</td>\n",
       "      <td id=\"T_70ebe_row3_col3\" class=\"data row3 col3\" >6170.000000</td>\n",
       "    </tr>\n",
       "    <tr>\n",
       "      <th id=\"T_70ebe_level0_row4\" class=\"row_heading level0 row4\" >weighted avg</th>\n",
       "      <td id=\"T_70ebe_row4_col0\" class=\"data row4 col0\" >0.870000</td>\n",
       "      <td id=\"T_70ebe_row4_col1\" class=\"data row4 col1\" >0.860000</td>\n",
       "      <td id=\"T_70ebe_row4_col2\" class=\"data row4 col2\" >0.830000</td>\n",
       "      <td id=\"T_70ebe_row4_col3\" class=\"data row4 col3\" >6170.000000</td>\n",
       "    </tr>\n",
       "  </tbody>\n",
       "</table>\n"
      ],
      "text/plain": [
       "<pandas.io.formats.style.Styler at 0x284f2e9c3d0>"
      ]
     },
     "execution_count": 34,
     "metadata": {},
     "output_type": "execute_result"
    }
   ],
   "source": [
    "# Predict using training and testing data and display the accuracy, f-1 score, precision for Positive and Negative Sentiment Classifiers \n",
    "nbm_predictions = nbm.predict(tvec.transform(X_test_cleaned))\n",
    "report = classification_report(Y_test,nbm_predictions, output_dict=True)\n",
    "data_report = pd.DataFrame(report).transpose().round(2)\n",
    "cm = sns.light_palette(\"blue\", as_cmap=True)\n",
    "data_report.style.background_gradient(cmap=cm)"
   ]
  },
  {
   "cell_type": "code",
   "execution_count": 35,
   "id": "1ebbad30",
   "metadata": {},
   "outputs": [
    {
     "data": {
      "image/png": "[encoded data removed]",
      "text/plain": [
       "<Figure size 640x480 with 2 Axes>"
      ]
     },
     "metadata": {},
     "output_type": "display_data"
    }
   ],
   "source": [
    "# confusion matrix\n",
    "nbm_predictions=nbm.predict(tvec.transform(X_test_cleaned))\n",
    "ax= plt.subplot()\n",
    "cm=confusion_matrix(Y_test,nbm_predictions)\n",
    "sns.heatmap(cm, annot=True, fmt='g', ax=ax,cmap='Purples');  \n",
    "ax.set_xlabel('Predicted labels');ax.set_ylabel('True labels');\n",
    "ax.set_title('Confusion Matrix');\n",
    "ax.xaxis.set_ticklabels(['negative', 'positive']); ax.yaxis.set_ticklabels(['negative', 'positive']);"
   ]
  },
  {
   "cell_type": "code",
   "execution_count": 36,
   "id": "31eb00f5",
   "metadata": {},
   "outputs": [
    {
     "name": "stdout",
     "output_type": "stream",
     "text": [
      "[0]\n"
     ]
    }
   ],
   "source": [
    "# testing the model with sample 'Negative' review\n",
    "demo_review = np.array(['Defective. Bad. Stopped working after one day use'])\n",
    "demo_review_X_test = tvec.transform(demo_review)\n",
    "print(nbm.predict(demo_review_X_test))\n",
    "\n",
    "# expected output = 0 (Negative)\n",
    "# actual output = 0 (Negative)"
   ]
  },
  {
   "cell_type": "code",
   "execution_count": 37,
   "id": "5bfa2a17",
   "metadata": {},
   "outputs": [
    {
     "name": "stdout",
     "output_type": "stream",
     "text": [
      "[1]\n"
     ]
    }
   ],
   "source": [
    "# testing the model with sample 'Positive' review\n",
    "demo_review_2 = np.array(['Good product. highly recommend buying.'])\n",
    "demo_review_X_test_2 = tvec.transform(demo_review_2)\n",
    "print(nbm.predict(demo_review_X_test_2))\n",
    "\n",
    "# expected output = 1 (Positive)\n",
    "# actual output = 1 (Positive)"
   ]
  },
  {
   "cell_type": "code",
   "execution_count": 56,
   "id": "0575b424",
   "metadata": {},
   "outputs": [],
   "source": [
    "# Code for Sentimental Analysis\n",
    "\n",
    "# Ends"
   ]
  },
  {
   "cell_type": "code",
   "execution_count": 38,
   "id": "5c16d1fa",
   "metadata": {},
   "outputs": [],
   "source": [
    "import pickle\n",
    "\n",
    "# Save the TfidfVectorizer\n",
    "with open('vectorizer.pkl', 'wb') as file:\n",
    "    pickle.dump(tvec, file)\n",
    "\n",
    "# Save the trained Logistic Regression model\n",
    "with open('logistic_regression_model.pkl', 'wb') as file:\n",
    "    pickle.dump(lr, file)\n",
    "\n",
    "# If you used the SVM model and want to save it too:\n",
    "with open('svm_model.pkl', 'wb') as file:\n",
    "    pickle.dump(svr_lin, file)\n"
   ]
  },
  {
   "cell_type": "markdown",
   "id": "46ea6fcf",
   "metadata": {},
   "source": [
    "\n",
    "## Chatbox AI Integration\n",
    "\n",
    "In this section, we'll integrate a simple chatbox interface to allow users to input their reviews and get real-time sentiment predictions from the trained model.\n"
   ]
  },
  {
   "cell_type": "code",
   "execution_count": 40,
   "id": "4714cbe5",
   "metadata": {},
   "outputs": [],
   "source": [
    "import pickle\n",
    "import tkinter as tk\n",
    "from sklearn.feature_extraction.text import TfidfVectorizer\n",
    "from sklearn.svm import LinearSVC\n",
    "\n",
    "# Load your pre-trained model and vectorizer\n",
    "model = pickle.load(open('logistic_regression_model.pkl', 'rb'))  # or 'svm_model.pkl' for the SVM model\n",
    "vectorizer = pickle.load(open('vectorizer.pkl', 'rb'))\n",
    "\n",
    "def get_sentiment(user_input):\n",
    "    transformed_input = vectorizer.transform([user_input])\n",
    "    prediction = model.predict(transformed_input)\n",
    "    return 'Positive' if prediction[0] == 1 else 'Negative'\n",
    "\n",
    "def send():\n",
    "    user_input = entry_box.get(\"1.0\", \"end-1c\").strip()\n",
    "    if user_input:\n",
    "        chat_log.config(state=tk.NORMAL)\n",
    "        chat_log.insert(tk.END, \"You: \" + user_input + '\\n\\n')\n",
    "        chat_log.config(foreground=\"#442265\", font=(\"Verdana\", 12))\n",
    "        \n",
    "        sentiment = get_sentiment(user_input)\n",
    "        chat_log.insert(tk.END, \"Bot: Sentiment is \" + sentiment + '\\n\\n')\n",
    "            \n",
    "        chat_log.config(state=tk.DISABLED)\n",
    "        chat_log.yview(tk.END)\n",
    "        \n",
    "        entry_box.delete(\"1.0\", tk.END)\n",
    "\n",
    "root = tk.Tk()\n",
    "root.title(\"Sentiment Analysis Chatbot\")\n",
    "root.geometry(\"400x500\")\n",
    "\n",
    "chat_log = tk.Text(root, bd=0, bg=\"white\", height=\"8\", width=\"50\", font=\"Arial\",)\n",
    "chat_log.config(state=tk.DISABLED)\n",
    "\n",
    "scrollbar = tk.Scrollbar(root, command=chat_log.yview)\n",
    "chat_log['yscrollcommand'] = scrollbar.set\n",
    "\n",
    "send_button = tk.Button(root, font=(\"Verdana\", 12, 'bold'), text=\"Send\", width=\"12\", height=5,\n",
    "                        bd=0, bg=\"#32de97\", activebackground=\"#3c9d9b\", fg='#ffffff',\n",
    "                        command=send)\n",
    "\n",
    "entry_box = tk.Text(root, bd=0, bg=\"white\",width=\"29\", height=\"5\", font=\"Arial\")\n",
    "scrollbar.place(x=376,y=6, height=386)\n",
    "chat_log.place(x=6,y=6, height=386, width=370)\n",
    "entry_box.place(x=128, y=401, height=90, width=265)\n",
    "send_button.place(x=6, y=401, height=90)\n",
    "\n",
    "root.mainloop()\n"
   ]
  }
 ],
 "metadata": {
  "kernelspec": {
   "display_name": "Python 3.10.0 64-bit",
   "language": "python",
   "name": "python3"
  },
  "language_info": {
   "codemirror_mode": {
    "name": "ipython",
    "version": 3
   },
   "file_extension": ".py",
   "mimetype": "text/x-python",
   "name": "python",
   "nbconvert_exporter": "python",
   "pygments_lexer": "ipython3",
   "version": "3.11.4"
  },
  "vscode": {
   "interpreter": {
    "hash": "369f2c481f4da34e4445cda3fffd2e751bd1c4d706f27375911949ba6bb62e1c"
   }
  }
 },
 "nbformat": 4,
 "nbformat_minor": 5
}
